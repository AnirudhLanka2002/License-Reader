{
 "cells": [
  {
   "cell_type": "markdown",
   "metadata": {},
   "source": [
    "# This is for PASCAL-VOC XML to YOLOV8 txt files."
   ]
  },
  {
   "cell_type": "code",
   "execution_count": 4,
   "metadata": {},
   "outputs": [],
   "source": [
    "import os\n",
    "import sys\n",
    "from xml.dom.minidom import parse\n",
    "\n",
    "def cord_converter(size, box):\n",
    "    \"\"\"\n",
    "    Convert xml annotation to darknet format coordinates\n",
    "    :param size: [w,h]\n",
    "    :param box: anchor box coordinates [upper-left x, upper-left y, lower-right x, lower-right y]\n",
    "    :return: converted [x,y,w,h]\n",
    "    \"\"\"\n",
    "    x1 = int(box[0])\n",
    "    y1 = int(box[1])\n",
    "    x2 = int(box[2])\n",
    "    y2 = int(box[3])\n",
    "\n",
    "    dw = 1. / int(size[0])\n",
    "    dh = 1. / int(size[1])\n",
    "\n",
    "    w = x2 - x1\n",
    "    h = y2 - y1\n",
    "    x = x1 + (w / 2)\n",
    "    y = y1 + (h / 2)\n",
    "\n",
    "    x = x * dw\n",
    "    w = w * dw\n",
    "    y = y * dh\n",
    "    h = h * dh\n",
    "    return [x, y, w, h]\n",
    "\n",
    "def save_file(output_folder, img_jpg_file_name, size, img_box):\n",
    "    save_file_name = os.path.join(output_folder, img_jpg_file_name + '.txt')\n",
    "    with open(save_file_name, \"a+\") as file_path:\n",
    "        for box in img_box:                  \n",
    "            cls_num = 0\n",
    "            new_box = cord_converter(size, box[1:]) # convert box coord into YOLO x,y,w,h\n",
    "            file_path.write(f\"{cls_num} {' '.join(map(str, new_box))}\\n\")\n",
    "\n",
    "def process_folder(input_folder, output_folder):\n",
    "    for filename in os.listdir(input_folder):\n",
    "        if filename.endswith('.xml'):\n",
    "            img_xml_file = os.path.splitext(filename)[0]\n",
    "            get_xml_data(input_folder, img_xml_file, output_folder)\n",
    "\n",
    "def get_xml_data(file_path, img_xml_file, output_folder):\n",
    "    img_path = os.path.join(file_path, img_xml_file + '.xml')\n",
    "\n",
    "    dom = parse(img_path)\n",
    "    root = dom.documentElement\n",
    "    img_name = root.getElementsByTagName(\"filename\")[0].childNodes[0].data\n",
    "    img_size = root.getElementsByTagName(\"size\")[0]\n",
    "    objects = root.getElementsByTagName(\"object\")\n",
    "    img_w = int(img_size.getElementsByTagName(\"width\")[0].childNodes[0].data)\n",
    "    img_h = int(img_size.getElementsByTagName(\"height\")[0].childNodes[0].data)\n",
    "    img_box = []\n",
    "    for box in objects:\n",
    "        cls_name = box.getElementsByTagName(\"name\")[0].childNodes[0].data\n",
    "        x1 = int(box.getElementsByTagName(\"xmin\")[0].childNodes[0].data)\n",
    "        y1 = int(box.getElementsByTagName(\"ymin\")[0].childNodes[0].data)\n",
    "        x2 = int(box.getElementsByTagName(\"xmax\")[0].childNodes[0].data)\n",
    "        y2 = int(box.getElementsByTagName(\"ymax\")[0].childNodes[0].data)\n",
    "        img_box.append([cls_name, x1, y1, x2, y2])\n",
    "    save_file(output_folder, img_xml_file, [img_w, img_h], img_box)"
   ]
  },
  {
   "cell_type": "markdown",
   "metadata": {},
   "source": [
    "## for train"
   ]
  },
  {
   "cell_type": "code",
   "execution_count": 5,
   "metadata": {},
   "outputs": [],
   "source": [
    "# Replace 'input_folder' with the path to your folder containing XML files\n",
    "input_folder = 'C:/Users/aniru/Desktop/fresh/Full_Indian_NPs/Dataset/train/annots'\n",
    "# Replace 'output_folder' with the path to your folder where you want to save the text files\n",
    "output_folder = 'C:/Users/aniru/Desktop/fresh/Full_Indian_NPs/Dataset/train/labels'\n",
    "process_folder(input_folder, output_folder)"
   ]
  },
  {
   "cell_type": "markdown",
   "metadata": {},
   "source": [
    "## for val"
   ]
  },
  {
   "cell_type": "code",
   "execution_count": 6,
   "metadata": {},
   "outputs": [],
   "source": [
    "# Replace 'input_folder' with the path to your folder containing XML files\n",
    "input_folder = 'C:/Users/aniru/Desktop/fresh/Full_Indian_NPs/Dataset/val/annots'\n",
    "# Replace 'output_folder' with the path to your folder where you want to save the text files\n",
    "output_folder = 'C:/Users/aniru/Desktop/fresh/Full_Indian_NPs/Dataset/val/labels'\n",
    "process_folder(input_folder, output_folder)"
   ]
  }
 ],
 "metadata": {
  "kernelspec": {
   "display_name": "Python 3",
   "language": "python",
   "name": "python3"
  },
  "language_info": {
   "codemirror_mode": {
    "name": "ipython",
    "version": 3
   },
   "file_extension": ".py",
   "mimetype": "text/x-python",
   "name": "python",
   "nbconvert_exporter": "python",
   "pygments_lexer": "ipython3",
   "version": "3.11.9"
  }
 },
 "nbformat": 4,
 "nbformat_minor": 2
}
