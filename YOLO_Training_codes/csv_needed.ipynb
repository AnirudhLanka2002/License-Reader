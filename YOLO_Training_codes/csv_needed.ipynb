{
 "cells": [
  {
   "cell_type": "code",
   "execution_count": 2,
   "metadata": {},
   "outputs": [],
   "source": [
    "import os\n",
    "import csv\n",
    "import xml.etree.ElementTree as ET\n",
    "\n",
    "def parse_xml(xml_file, image_folder):\n",
    "    tree = ET.parse(xml_file)\n",
    "    root = tree.getroot()\n",
    "    objects = []\n",
    "    xml_filename = os.path.splitext(os.path.basename(xml_file))[0]  # Extract XML file name without extension\n",
    "    for ext in ['.jpg', '.jpeg', '.png', '.JPG']:  # Try different image extensions\n",
    "        image_filename = xml_filename + ext\n",
    "        image_path = os.path.join(image_folder, image_filename)\n",
    "        if os.path.exists(image_path):\n",
    "            break  # Found the image, exit loop\n",
    "    else:\n",
    "        raise FileNotFoundError(f\"Image not found for XML file: {xml_file}\")\n",
    "\n",
    "    for obj in root.findall('object'):\n",
    "        name = obj.find('name').text\n",
    "        bbox = obj.find('bndbox')\n",
    "        x = int(bbox.find('xmin').text)\n",
    "        y = int(bbox.find('ymin').text)\n",
    "        width = int(bbox.find('xmax').text) - x\n",
    "        height = int(bbox.find('ymax').text) - y\n",
    "        objects.append({'Filepath': image_path, 'ObjectName': name, 'x': x, 'y': y, 'width': width, 'height': height})\n",
    "    return objects\n",
    "\n",
    "def xml_to_csv(xml_folder, image_folder, csv_file):\n",
    "    with open(csv_file, 'w', newline='') as csvfile:\n",
    "        fieldnames = ['Filepath', 'ObjectName', 'x', 'y', 'width', 'height']\n",
    "        writer = csv.DictWriter(csvfile, fieldnames=fieldnames)\n",
    "        writer.writeheader()\n",
    "\n",
    "        for xml_file in os.listdir(xml_folder):\n",
    "            if xml_file.endswith('.xml'):\n",
    "                xml_path = os.path.join(xml_folder, xml_file)\n",
    "                objects = parse_xml(xml_path, image_folder)\n",
    "                for obj in objects:\n",
    "                    writer.writerow(obj)\n",
    "\n",
    "# Define paths\n",
    "xml_folder = 'C:/Users/aniru/Desktop/fresh/OCR/xml'\n",
    "image_folder = 'C:/Users/aniru/Desktop/fresh/OCR/images'\n",
    "csv_file = 'output.csv'\n",
    "\n",
    "# Convert XML to CSV\n",
    "xml_to_csv(xml_folder, image_folder, csv_file)"
   ]
  }
 ],
 "metadata": {
  "kernelspec": {
   "display_name": "Python 3",
   "language": "python",
   "name": "python3"
  },
  "language_info": {
   "codemirror_mode": {
    "name": "ipython",
    "version": 3
   },
   "file_extension": ".py",
   "mimetype": "text/x-python",
   "name": "python",
   "nbconvert_exporter": "python",
   "pygments_lexer": "ipython3",
   "version": "3.11.9"
  }
 },
 "nbformat": 4,
 "nbformat_minor": 2
}
