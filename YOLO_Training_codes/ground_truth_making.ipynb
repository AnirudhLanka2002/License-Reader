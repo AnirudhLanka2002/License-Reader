{
 "cells": [
  {
   "cell_type": "code",
   "execution_count": 1,
   "metadata": {},
   "outputs": [
    {
     "name": "stdout",
     "output_type": "stream",
     "text": [
      "Conversion completed. Output saved to: C:/Users/aniru/Desktop/fresh/new_ground_truth.csv\n"
     ]
    }
   ],
   "source": [
    "import csv\n",
    "\n",
    "def convert_to_yolov8_format(xmin, ymin, xmax, ymax, image_width, image_height):\n",
    "    x_center = (xmin + xmax) / (2 * image_width)\n",
    "    y_center = (ymin + ymax) / (2 * image_height)\n",
    "    width = (xmax - xmin) / image_width\n",
    "    height = (ymax - ymin) / image_height\n",
    "    return x_center, y_center, width, height\n",
    "\n",
    "# Path to the input CSV file\n",
    "input_csv_file = \"C:/Users/aniru/Desktop/fresh/ground_truth.csv\"\n",
    "\n",
    "# Path to the output CSV file\n",
    "output_csv_file = \"C:/Users/aniru/Desktop/fresh/new_ground_truth.csv\"\n",
    "\n",
    "# Image dimensions\n",
    "image_width = 1920  # Example width of the image\n",
    "image_height = 1080  # Example height of the image\n",
    "\n",
    "# Open the input CSV file and create a new output CSV file\n",
    "with open(input_csv_file, 'r') as csvfile, open(output_csv_file, 'w', newline='') as outputfile:\n",
    "    reader = csv.DictReader(csvfile)\n",
    "    fieldnames = ['Filename', 'Object_Name', 'x_center', 'y_center', 'width', 'height']\n",
    "    writer = csv.DictWriter(outputfile, fieldnames=fieldnames)\n",
    "    writer.writeheader()\n",
    "\n",
    "    # Iterate through each row in the input CSV file\n",
    "    for row in reader:\n",
    "        xmin = int(row['Xmin'])\n",
    "        ymin = int(row['Ymin'])\n",
    "        xmax = int(row['Xmax'])\n",
    "        ymax = int(row['Ymax'])\n",
    "\n",
    "        # Convert bounding box coordinates to YOLOv8 format\n",
    "        x_center, y_center, width, height = convert_to_yolov8_format(xmin, ymin, xmax, ymax, image_width, image_height)\n",
    "\n",
    "        # Write the converted data to the output CSV file\n",
    "        writer.writerow({\n",
    "            'Filename': row['Filename'],\n",
    "            'Object_Name': row['Object_Name'],\n",
    "            'x_center': x_center,\n",
    "            'y_center': y_center,\n",
    "            'width': width,\n",
    "            'height': height\n",
    "        })\n",
    "\n",
    "print(\"Conversion completed. Output saved to:\", output_csv_file)\n"
   ]
  }
 ],
 "metadata": {
  "kernelspec": {
   "display_name": "Python 3",
   "language": "python",
   "name": "python3"
  },
  "language_info": {
   "codemirror_mode": {
    "name": "ipython",
    "version": 3
   },
   "file_extension": ".py",
   "mimetype": "text/x-python",
   "name": "python",
   "nbconvert_exporter": "python",
   "pygments_lexer": "ipython3",
   "version": "3.11.9"
  }
 },
 "nbformat": 4,
 "nbformat_minor": 2
}
